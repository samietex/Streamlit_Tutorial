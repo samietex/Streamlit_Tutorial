{
 "cells": [
  {
   "cell_type": "markdown",
   "metadata": {},
   "source": [
    "## Streamlit Tutorial for Beginners\n",
    "\n",
    "Streamlit is an open-source Python library that makes it easy to create and share beautiful, custom web apps for machine learning and data science. In just a few minutes you can build and deploy powerful data apps - so let's get started!\n",
    "\n",
    "### Setting Up Your Development Environment\n",
    "\n",
    "Before you can start using Streamlit, you need to set up your Python environment and install Streamlit.\n",
    "\n",
    "I will assume that you have already have experience writing Python codes so we can skip the Python installation part, and proceed to Streamlit installation.\n",
    "\n",
    "Before installing streamlit using pip, I will advise you to create a virtual environment. You can do this by navigating to the directory where you want to store your code, and run the following command to create a virtual environment named `env`"
   ]
  },
  {
   "cell_type": "code",
   "execution_count": null,
   "metadata": {},
   "outputs": [],
   "source": [
    "! python -m venv env"
   ]
  },
  {
   "cell_type": "markdown",
   "metadata": {},
   "source": [
    "You can then go ahead to activate the virtual environment. \n",
    "\n",
    "For Windows users: `env\\Scripts\\activate`\n",
    "For Unix or MacOS users: `source env/bin/activate`\n",
    "\n",
    "Now, to install Streamlit. Using the already activated virtual environment:"
   ]
  },
  {
   "cell_type": "code",
   "execution_count": null,
   "metadata": {},
   "outputs": [],
   "source": [
    "! pip install streamlit"
   ]
  },
  {
   "cell_type": "markdown",
   "metadata": {},
   "source": [
    "### Building Your First Streamlit App\n",
    "\n",
    "Let's start with a simple Streamlit App. After creating a new python script file, you can save it as `app.py` in your project directory."
   ]
  },
  {
   "cell_type": "code",
   "execution_count": 1,
   "metadata": {},
   "outputs": [
    {
     "name": "stderr",
     "output_type": "stream",
     "text": [
      "2024-01-13 13:27:52.291 \n",
      "  \u001b[33m\u001b[1mWarning:\u001b[0m to view this Streamlit app on a browser, run it with the following\n",
      "  command:\n",
      "\n",
      "    streamlit run c:\\Users\\Windows\\anaconda3\\Lib\\site-packages\\ipykernel_launcher.py [ARGUMENTS]\n"
     ]
    }
   ],
   "source": [
    "import streamlit as st\n",
    "\n",
    "st.title('My First Streamlit App')\n",
    "\n",
    "st.write('Hello, world!')"
   ]
  },
  {
   "cell_type": "markdown",
   "metadata": {},
   "source": [
    "`import streamlit as st`\n",
    "\n",
    "This line is an import statement. It's how you include external Python libraries—in this case, Streamlit—into your script. as `st` means that instead of typing `streamlit` every time you want to use a Streamlit function, you'll just type `st` as shorthand. Think of it like creating a nickname for Streamlit within your code to make it easier and quicker to reference.\n",
    "\n",
    "`st.title('My First Streamlit App')`\n",
    "\n",
    "Here, you're using a Streamlit function called title to add a title to your web app. The text **'My First Streamlit App'** is the actual title that will be displayed on the page. This function makes the text large and bold, making it clear that it's the main heading of your app.\n",
    "\n",
    "`st.write('Hello, world!')`\n",
    "\n",
    "This line is calling another Streamlit function named write, which is a versatile way of displaying information on your app. It can be used to show text, numbers, data frames, charts, and more. In this case, you're simply using it to show the text **'Hello, world!'** on the screen. This is a classic first program output in learning to code, indicating that you've successfully managed to output something onto the page.\n",
    "\n",
    "When you run this script using Streamlit, you'll see a webpage with **\"My First Streamlit App\"** as a heading, followed by **\"Hello, world!\"** as a paragraph of text. This is a simple demonstration of how Streamlit can quickly turn Python code into a web application.\n",
    "\n",
    "### Running Your Streamlit App\n",
    "\n",
    "To run your app, open a terminal and navigate to the project directory where the `app.py` script is and run"
   ]
  },
  {
   "cell_type": "code",
   "execution_count": null,
   "metadata": {},
   "outputs": [],
   "source": [
    "streamlit run app.py"
   ]
  },
  {
   "cell_type": "markdown",
   "metadata": {},
   "source": [
    "### Exploring Streamlit Features\n",
    "\n",
    "Streamlit offers a variety of features to add interactivity to your app.\n",
    "\n",
    "### Display Text\n",
    "\n",
    "You've already seen `st.write()`, but Streamlit provides other functions for text:"
   ]
  },
  {
   "cell_type": "code",
   "execution_count": 2,
   "metadata": {},
   "outputs": [
    {
     "data": {
      "text/plain": [
       "DeltaGenerator()"
      ]
     },
     "execution_count": 2,
     "metadata": {},
     "output_type": "execute_result"
    }
   ],
   "source": [
    "st.text('This is some text.')\n",
    "st.markdown('**Markdown** is also supported!')\n",
    "st.header('This is a header')\n",
    "st.subheader('This is a subheader')\n",
    "st.caption('This is a small caption text')"
   ]
  },
  {
   "cell_type": "markdown",
   "metadata": {},
   "source": [
    "`st.text('This is some text.')`\n",
    "\n",
    "The `st.text` function is used to display plain text on the app. When you use this function, the string 'This is some text.' will appear on your web page exactly as you've written it.\n",
    "\n",
    "`st.markdown('**Markdown** is also supported!')`\n",
    "\n",
    "This function allows you to use Markdown, a lightweight markup language with plain-text formatting syntax. In Markdown, **text** will make the text bold. So, when this line is rendered in your app, the word \"Markdown\" will appear in bold, like this: Markdown is also supported!\n",
    "\n",
    "`st.header('This is a header')`\n",
    "\n",
    "The `st.header` function creates a header on your web page. This is typically used for titles of sections or to introduce new topics within your app. The text provided will be displayed in a larger, bold font to stand out as a header.\n",
    "\n",
    "`st.subheader('This is a subheader')`\n",
    "\n",
    "Similar to `st.header`, `st.subheader` is used for creating subsection titles. The text 'This is a subheader' will appear in a font size smaller than st.header but larger than the normal body text.\n",
    "\n",
    "`st.caption('This is a small caption text')`\n",
    "\n",
    "The `st.caption` function is used to display smaller, less prominent text. It's often used for adding descriptions or notes under images or to provide additional context to a section. The caption text 'This is a small caption text' will be rendered in a smaller font size compared to the normal text.\n",
    "\n",
    "These functions are part of what makes Streamlit a powerful tool for creating interactive web apps with Python. They give you the ability to format text in different ways, helping you to structure the content of your app in a user-friendly manner.\n",
    "\n",
    "### Widgets\n",
    "\n",
    "Widgets allow users to interact with the app and provide input."
   ]
  },
  {
   "cell_type": "code",
   "execution_count": 3,
   "metadata": {},
   "outputs": [
    {
     "name": "stderr",
     "output_type": "stream",
     "text": [
      "2024-01-13 13:29:32.875 Session state does not function when running a script without `streamlit run`\n"
     ]
    }
   ],
   "source": [
    "number = st.slider('Pick a number', 0, 100) # Slider widget\n",
    "st.write('Selected number:', number)\n",
    "\n",
    "text_input = st.text_input('Enter some text') # Text input widget\n",
    "st.write('Entered text:', text_input)\n",
    "\n",
    "checkbox_val = st.checkbox('Check me') # Checkbox widget\n",
    "st.write('Checkbox status:', checkbox_val)\n",
    "\n",
    "date = st.date_input('Pick a date') # Date input widget\n",
    "st.write('Selected date:', date)"
   ]
  },
  {
   "cell_type": "markdown",
   "metadata": {},
   "source": [
    "* `number = st.slider('Pick a number', 0, 100)`\n",
    "\n",
    "The `st.slider` function creates a slider widget for numeric input. The first argument, 'Pick a number', is the label displayed next to the slider. The next two arguments, 0 and 100, define the minimum and maximum values of the slider. In this case, the user can select any number between 0 and 100. The value chosen by the user is stored in the variable number.\n",
    "\n",
    "* `st.write('Selected number:', number)`\n",
    "\n",
    "This line outputs the text 'Selected number:' followed by the current value of number. So, if the user moves the slider to 25, the app will display \"Selected number: 25\".\n",
    "\n",
    "* `text_input = st.text_input('Enter some text')`\n",
    "\n",
    "`st.text_input` creates a text box where the user can type something in. The label 'Enter some text' appears as a prompt or instruction for this text box. The text the user types is stored in the variable text_input.\n",
    "\n",
    "* `st.write('Entered text:', text_input)`\n",
    "\n",
    "This line will display the string 'Entered text:' and then the text that the user has entered into the text box.\n",
    "\n",
    "* `checkbox_val = st.checkbox('Check me')`\n",
    "\n",
    "`st.checkbox` creates a checkbox that the user can either check or leave unchecked. The argument 'Check me' is the label for the checkbox. The state of the checkbox (checked or unchecked) is stored in the variable checkbox_val as a boolean value, where True means checked and False means unchecked.\n",
    "\n",
    "* `st.write('Checkbox status:', checkbox_val)`\n",
    "\n",
    "Here, the app will display 'Checkbox status:' followed by the state of the checkbox. If the user checks the box, it will show \"Checkbox status: True\".\n",
    "\n",
    "* `date = st.date_input('Pick a date')`\n",
    "\n",
    "The `st.date_input` function provides a widget for the user to select a date. The string 'Pick a date' is the label for this widget. The selected date is stored in the variable date.\n",
    "\n",
    "* `st.write('Selected date:', date)`\n",
    "\n",
    "This line will display the text 'Selected date:' and the date picked by the user.\n",
    "\n",
    "These widgets are what make Streamlit apps interactive, as they allow users to input data and immediately see the output or result of their input reflected in the app.\n",
    "\n",
    "### Layouts and Containers\n",
    "\n",
    "Streamlit allows you to organize your app's layout using containers and columns."
   ]
  },
  {
   "cell_type": "code",
   "execution_count": 4,
   "metadata": {},
   "outputs": [],
   "source": [
    "# Containers\n",
    "header_container = st.container()\n",
    "stats_container = st.container()"
   ]
  },
  {
   "cell_type": "markdown",
   "metadata": {},
   "source": [
    "These lines create two separate containers: `header_container` and `stats_container`. Containers in Streamlit are like boxes that can hold various elements of your app, such as text, charts, or widgets."
   ]
  },
  {
   "cell_type": "code",
   "execution_count": null,
   "metadata": {},
   "outputs": [],
   "source": [
    "with header_container:\n",
    "    st.title('This is the main header')"
   ]
  },
  {
   "cell_type": "markdown",
   "metadata": {},
   "source": [
    "Within the `header_container`, a title is added using `st.title`. This title will be displayed prominently on the page."
   ]
  },
  {
   "cell_type": "code",
   "execution_count": null,
   "metadata": {},
   "outputs": [],
   "source": [
    "with stats_container:\n",
    "    st.header('Statistics Section')\n",
    "    st.write('Here we can display statistics or other information.')"
   ]
  },
  {
   "cell_type": "markdown",
   "metadata": {},
   "source": [
    "In the `stats_container`, a header (`st.header`) and some text (`st.write`) are added. This section is labeled as \"Statistics Section\" and can be used to display statistics or related information."
   ]
  },
  {
   "cell_type": "code",
   "execution_count": null,
   "metadata": {},
   "outputs": [],
   "source": [
    "col1, col2 = st.columns(2)"
   ]
  },
  {
   "cell_type": "markdown",
   "metadata": {},
   "source": [
    "This line creates two columns, `col1` and `col2`, side by side. The argument 2 in `st.columns(2)` indicates the number of columns."
   ]
  },
  {
   "cell_type": "code",
   "execution_count": null,
   "metadata": {},
   "outputs": [],
   "source": [
    "with col1:\n",
    "    st.header('Column 1')\n",
    "    st.write('Hello from Column 1')"
   ]
  },
  {
   "cell_type": "markdown",
   "metadata": {},
   "source": [
    "Within `col1`, a header and some text are added. These will appear in the first column of the web app."
   ]
  },
  {
   "cell_type": "code",
   "execution_count": null,
   "metadata": {},
   "outputs": [],
   "source": [
    "with col2:\n",
    "    st.header('Column 2')\n",
    "    st.write('Hello from Column 2')"
   ]
  },
  {
   "cell_type": "markdown",
   "metadata": {},
   "source": [
    "Similarly, `col2` is used to add a header and text for the second column.\n",
    "\n",
    "By using containers and columns, you can structure your Streamlit app more effectively, creating clear sections and organizing content in a visually appealing way. Containers provide a way to group related elements, while columns allow you to display elements side by side."
   ]
  },
  {
   "cell_type": "markdown",
   "metadata": {},
   "source": [
    "\n",
    "\n",
    "### Charts and Maps\n",
    "\n",
    "Streamlit supports plotting charts and maps."
   ]
  },
  {
   "cell_type": "code",
   "execution_count": null,
   "metadata": {},
   "outputs": [],
   "source": [
    "import pandas as pd\n",
    "import numpy as np\n",
    "\n",
    "# Generating a random dataframe\n",
    "df = pd.DataFrame(np.random.randn(50, 3), columns=['a', 'b', 'c'])\n",
    "\n",
    "st.line_chart(df)  # Line chart\n",
    "st.area_chart(df)  # Area chart\n",
    "st.bar_chart(df['a'])  # Bar chart\n",
    "\n",
    "# Maps\n",
    "st.map(df[['a', 'b']])  # Assumes 'a' and 'b' are latitude and longitude"
   ]
  },
  {
   "cell_type": "markdown",
   "metadata": {},
   "source": [
    "The code starts by importing `pandas` and `numpy`, two widely used libraries for data manipulation and numerical computing in Python.\n",
    "\n",
    "The dataframe, `df` is created using `pandas`. The `np.random.randn(50, 3)` function from NumPy generates a 50x3 array of random numbers drawn from a standard normal distribution. This DataFrame has three columns named 'a', 'b', and 'c'.\n",
    "\n",
    "The next line creates a line chart using Streamlit’s `st.line_chart` function. The chart plots all three columns of the DataFrame df against the index. Each column ('a', 'b', 'c') becomes a line in the chart.\n",
    "\n",
    "The `st.area_chart` function generates an area chart based on the same DataFrame. In an area chart, the space between the axis and the line is filled with colors, which can help to visualize the magnitude of the values.\n",
    "\n",
    "The next line is to create a bar chart for just the 'a' column of the DataFrame. The st.bar_chart function takes a Series or a DataFrame as input. Here, only the values in column 'a' are used to create the bars of the chart.\n",
    "\n",
    "`st.map` is used to create a map. This function is typically used to plot latitude and longitude values. In this example, the code assumes that columns 'a' and 'b' represent latitude and longitude, respectively. However, since the DataFrame is generated with random numbers, this map might not make sense in a real-world context. In a practical scenario, you would replace df[['a', 'b']] with a DataFrame containing actual geographical coordinates.\n",
    "\n",
    "Each of these functions (st.line_chart, st.area_chart, st.bar_chart, st.map) provides a quick and easy way to visualize data in a Streamlit app. They are especially useful for exploratory data analysis and adding interactivity to your data science projects."
   ]
  },
  {
   "cell_type": "markdown",
   "metadata": {},
   "source": [
    "### DataFrames and Tables\n",
    "\n",
    "You can display data using Streamlit's built-in functions."
   ]
  },
  {
   "cell_type": "code",
   "execution_count": null,
   "metadata": {},
   "outputs": [],
   "source": [
    "# Display a dataframe\n",
    "st.dataframe(df)\n",
    "\n",
    "# Display a static table\n",
    "st.table(df.head())"
   ]
  },
  {
   "cell_type": "markdown",
   "metadata": {},
   "source": [
    "`st.dataframe` is a function used to display a DataFrame in Streamlit. It renders the DataFrame df as an interactive table. This interactivity includes the ability to scroll through the data if it's too large to fit on the screen at once, as well as sort the data by clicking on column headers. It's a convenient way to display data in a tabular format where the user might want to explore or navigate through the data.\n",
    "\n",
    "The `st.table` function is used to create a static table in Streamlit. Here, `df.head()` is passed to `st.table`, which means the table will display the first five rows of the DataFrame `df`. Unlike `st.dataframe`, the table generated by `st.table` is static; it doesn't allow for interactions like sorting or scrolling. This function is best used when you want to display a small, fixed set of data that doesn't require any user interaction.\n",
    "\n",
    "Both functions are useful for data display in Streamlit apps, and the choice between them depends on whether you need the table to be interactive (`st.dataframe`) or static (st.table).\n",
    "\n",
    "### Advanced Features\n",
    "\n",
    "As you get more comfortable with Streamlit, you might want to explore more advanced features, such as:\n",
    "\n",
    "* **State Management**: Handling user input across multiple interactions.\n",
    "* **Caching**: Improving app performance by caching computation.\n",
    "* **File Uploads:** Allowing users to upload files for processing.\n",
    "* **Custome Components:** Creating custom web components for your app.\n",
    "\n",
    "\n",
    "## Example Using the `adidas.py` Script\n",
    "For a better understanding, let's use the `adidas.py` script as an example. This will give you more understanding on how to build a dashboard app for exploratory data analysis and visualization.\n",
    "\n",
    "We will be visualizing sales data from an Excel file. let's get started!\n",
    "\n",
    "You can find the source code for this streamlit app [here!](/Adidas/adidas.py)\n",
    "\n",
    "### Importing Libraries\n"
   ]
  },
  {
   "cell_type": "code",
   "execution_count": null,
   "metadata": {},
   "outputs": [],
   "source": [
    "import streamlit as st\n",
    "import pandas as pd\n",
    "import datetime\n",
    "from PIL import Image\n",
    "import plotly.express as px\n",
    "import plotly.graph_objects as go"
   ]
  },
  {
   "cell_type": "markdown",
   "metadata": {},
   "source": [
    "* `streamlit` is the main library we're using to create the web app.\n",
    "* `pandas` is used for data manipulation and analysis.\n",
    "* `datetime` is used to work with dates and times.\n",
    "* `PIL` Also known as Python Imaging Library, is used for opening, manipulating, and saving many different image file formats.\n",
    "* `potly` libraries are used for creating interactive charts.\n",
    "\n",
    "### Reading Data\n",
    "\n",
    "Next, the script reads the data from an Excel File:"
   ]
  },
  {
   "cell_type": "code",
   "execution_count": null,
   "metadata": {},
   "outputs": [],
   "source": [
    "df = pd.read_excel(\"Adidas.xlsx\")"
   ]
  },
  {
   "cell_type": "markdown",
   "metadata": {},
   "source": [
    "Make sure that the `Adidas.xlsx` file is in the same directory as your script or provide the correct path to the file.\n",
    "\n",
    "### Setting Up the Page\n",
    "Streamlit allows you to configure your page's layout and styling. In the script, the page is set to a wide layout, and custom styles are applied:"
   ]
  },
  {
   "cell_type": "code",
   "execution_count": null,
   "metadata": {},
   "outputs": [],
   "source": [
    "st.set_page_config(layout=\"wide\")\n",
    "st.markdown('<style>div.block-container{padding-top:1rem;}</style>', unsafe_allow_html=True)"
   ]
  },
  {
   "cell_type": "markdown",
   "metadata": {},
   "source": [
    "`st.set_page_config(layout=\"wide\")`\n",
    "\n",
    "This line of code is used to set the configuration of the Streamlit page. The layout=\"wide\" argument changes the layout of the page to use the full width of the screen, instead of the default narrower central column. This is particularly useful when you want to make full use of the screen real estate, for example, to display wide charts or data tables.\n",
    "\n",
    "`st.markdown('<style>div.block-container{padding-top:1rem;}</style>', unsafe_allow_html=True)`\n",
    "\n",
    "This line is using the `st.markdown` function in a somewhat unconventional way to inject custom CSS styling into the Streamlit app. Normally, `st.markdown` is used to render text in Markdown format, but here it's being used to include a raw HTML `<style>` tag directly.\n",
    "\n",
    "`'<style>div.block-container{padding-top:1rem;}</style>'` is a string that defines CSS styling. It applies a top padding of 1 rem (a unit of font size) to all elements with the class block-container. In the context of a Streamlit app, block-container is a class that Streamlit uses internally to wrap the main content of the page. This styling effectively pushes the entire content of the page slightly down, creating some space between the top of the page and the content.\n",
    "\n",
    "`unsafe_allow_html=True` is necessary because, by default, Streamlit will not render raw HTML for security reasons. Setting this to True allows HTML to be rendered, but it should be used cautiously as it can make the app vulnerable to HTML injection attacks if the HTML content is not controlled or sanitized.\n",
    "\n",
    "These configurations are usually set at the beginning of a Streamlit script and dictate the overall appearance and layout of the app. They are part of what makes Streamlit flexible and customizable for different data applications."
   ]
  },
  {
   "cell_type": "markdown",
   "metadata": {},
   "source": [
    "### Header and Logo\n",
    "\n",
    "The script displays an Adidas logo and a custom-styled header:"
   ]
  },
  {
   "cell_type": "code",
   "execution_count": null,
   "metadata": {},
   "outputs": [],
   "source": [
    "image = Image.open('adidas-logo.jpg')\n",
    "\n",
    "col1, col2 = st.columns([0.1,0.9])\n",
    "with col1:\n",
    "    st.image(image,width=100)\n",
    "\n",
    "html_title = \"\"\"\n",
    "    <style>\n",
    "    .title-test {\n",
    "    font-weight:bold;\n",
    "    padding:5px;\n",
    "    border-radius:6px;\n",
    "    }\n",
    "    </style>\n",
    "    <center><h1 class=\"title-test\">Adidas Interactive Sales Dashboard</h1></center>\"\"\"\n",
    "with col2:\n",
    "    st.markdown(html_title, unsafe_allow_html=True)\n"
   ]
  },
  {
   "cell_type": "markdown",
   "metadata": {},
   "source": [
    "The `Image.open` method from the PIL (Python Imaging Library) to load an image file named 'adidas-logo.jpg'. The image file should be in the same directory as your Streamlit script, or you should provide the correct path to the file.\n",
    "\n",
    "`st.columns` is used to create two side-by-side columns with different widths. The argument [0.1, 0.9] specifies the width ratio of these columns. col1 is set to 10% of the page width, and col2 to 90%.\n",
    "\n",
    "In `col1`, the `st.image` function is used to display the previously opened image. The width=100 parameter sets the width of the image to 100 pixels.\n",
    "\n",
    "The custom HTML title is a multi-line string that defines both CSS and HTML for a custom title. The CSS part makes the title bold, adds padding, and sets a border radius. The HTML part centers an `<h1>` heading and applies the CSS class `.title-test`.\n",
    "\n",
    "In `col2`, the `st.markdown` function is used to render the custom HTML and CSS. The `unsafe_allow_html=True` parameter is necessary to allow HTML rendering in Streamlit.\n",
    "\n",
    "This layout effectively creates a header for the Streamlit app, with a logo on the left (in a smaller column) and a stylized title on the right (in a larger column), giving a professional and customized look to the application.\n",
    "\n",
    "### Sales Data Visualization, Data Tables, and Download Buttons\n",
    "\n",
    "Several visualizations are created using Plotly, such as bar charts, line charts, and a treemap, each within its own Streamlit container:"
   ]
  },
  {
   "cell_type": "code",
   "execution_count": null,
   "metadata": {},
   "outputs": [],
   "source": [
    "col3, col4, col5 = st.columns([0.1,0.45,0.45])\n",
    "with col3:\n",
    "    box_date = str(datetime.datetime.now().strftime(\"%d %B %Y\"))\n",
    "    st.write(f\"Last updated by:  \\n {box_date}\")\n",
    "\n",
    "with col4:\n",
    "    fig = px.bar(df, x = \"Retailer\", y = \"TotalSales\", labels={\"TotalSales\" : \"Total Sales {$}\"},\n",
    "                 title = \"Total Sales by Retailer\", hover_data=[\"TotalSales\"],\n",
    "                 template=\"gridon\",height=500)\n",
    "    st.plotly_chart(fig,use_container_width=True)\n",
    "\n",
    "_, view1, dwn1, view2, dwn2 = st.columns([0.15,0.20,0.20,0.20,0.20])\n",
    "with view1:\n",
    "    expander = st.expander(\"Retailer wise Sales\")\n",
    "    data = df[[\"Retailer\",\"TotalSales\"]].groupby(by=\"Retailer\")[\"TotalSales\"].sum()\n",
    "    expander.write(data)\n",
    "with dwn1:\n",
    "    st.download_button(\"Get Data\", data = data.to_csv().encode(\"utf-8\"),\n",
    "                       file_name=\"RetailerSales.csv\", mime=\"text/csv\")"
   ]
  },
  {
   "cell_type": "markdown",
   "metadata": {},
   "source": [
    "Here, `st.columns` is used to create three columns with specified width ratios. col3 takes up 10% of the width, while col4 and col5 each take up 45%.\n",
    "\n",
    "In `col3`, the code is generating the current date using `datetime.datetime.now()`, formatting it as \"day month year\" (e.g., \"12 January 2024\"), and displaying it with the label `\"Last updated by:\"`. This is useful for showing when the data in the app was last refreshed.\n",
    "\n",
    "In `col4`, a Plotly bar chart (`px.bar`) is created using the DataFrame `df`. It plots TotalSales against Retailer. Additional chart properties like labels, title, hover data, and template are specified. The chart is then displayed in the Streamlit app using `st.plotly_chart`.\n",
    "\n",
    "`_, view1, dwn1, view2, dwn2 = st.columns([0.15,0.20,0.20,0.20,0.20])\n",
    "` creates five more columns. The first column (represented by _) is ignored, and the others are used for different purposes.\n",
    "\n",
    "Inside `view1`, an expander widget titled \"Retailer wise Sales\" is created. Inside this expander, data showing total sales by retailer is displayed.\n",
    "\n",
    "Inside `dwn`, a download button is added, allowing users to download the displayed data as a CSV file. \n",
    "\n",
    "This snippet effectively demonstrates how to create a visually appealing and interactive dashboard with multiple elements like dynamic text, charts, expanders, and download buttons in Streamlit."
   ]
  },
  {
   "cell_type": "code",
   "execution_count": null,
   "metadata": {},
   "outputs": [],
   "source": [
    "df[\"Month_Year\"] = df[\"InvoiceDate\"].dt.strftime(\"%b'%y\")\n",
    "result = df.groupby(by = df[\"Month_Year\"])[\"TotalSales\"].sum().reset_index()\n",
    "\n",
    "with col5:\n",
    "    fig1 = px.line(result, x = \"Month_Year\", y = \"TotalSales\", title=\"Total Sales Over Time\",\n",
    "                   template=\"gridon\")\n",
    "    st.plotly_chart(fig1,use_container_width=True)\n",
    "\n",
    "with view2:\n",
    "    expander = st.expander(\"Monthly Sales\")\n",
    "    data = result\n",
    "    expander.write(data)\n",
    "with dwn2:\n",
    "    st.download_button(\"Get Data\", data = result.to_csv().encode(\"utf-8\"),\n",
    "                       file_name=\"Monthly Sales.csv\", mime=\"text/csv\")\n",
    "    \n",
    "st.divider()\n",
    "\n",
    "result1 = df.groupby(by=\"State\")[[\"TotalSales\",\"UnitsSold\"]].sum().reset_index()"
   ]
  },
  {
   "cell_type": "markdown",
   "metadata": {},
   "source": [
    "The `df[\"Month_Year\"] = df[\"InvoiceDate\"].dt.strftime(\"%b'%y\")\n",
    "` line adds a new column, Month_Year, to the DataFrame df. It's created by formatting the InvoiceDate column to show the month and year. The .dt.strftime(\"%b'%y\") method formats the date to a string in the format \"Jan'21\", \"Feb'21\", etc.\n",
    "\n",
    "The dataframe is then grouped by the newly created `Month_Year` column, and the total sales are summed up for each group. The `groupby` method followed by `sum()` aggregates the sales, and `reset_index()` converts the grouped data back into a DataFrame.\n",
    "\n",
    "In `col5`, a line chart (`px.line`) is created using the aggregated data result. It plots total sales over time. The chart is displayed in the Streamlit app using `st.plotly_chart`.\n",
    "\n",
    "To display monthly sales data in an expander, an expander widget titled \"Monthly Sales\" is created. Inside this expander, the monthly sales data (result) is displayed, allowing users to view detailed figures on demand.\n",
    "\n",
    "A download button is added, enabling users to download the monthly sales data as a CSV file.\n",
    "\n",
    "The last line aggregates the sales data by state. It sums up `TotalSales` and `UnitsSold` for each state and returns the result in the DataFrame `result1`."
   ]
  },
  {
   "cell_type": "code",
   "execution_count": null,
   "metadata": {},
   "outputs": [],
   "source": [
    "# add the units sold as a line chart on a secondary y-axis\n",
    "fig3 = go.Figure()\n",
    "fig3.add_trace(go.Bar(x = result1[\"State\"], y = result1[\"TotalSales\"], name = \"Total Sales\"))\n",
    "fig3.add_trace(go.Scatter(x=result1[\"State\"], y = result1[\"UnitsSold\"], mode = \"lines\",\n",
    "                          name =\"Units Sold\", yaxis=\"y2\"))\n",
    "fig3.update_layout(\n",
    "    title = \"Total Sales and Units Sold by State\",\n",
    "    xaxis = dict(title=\"State\"),\n",
    "    yaxis = dict(title=\"Total Sales\", showgrid = False),\n",
    "    yaxis2 = dict(title=\"Units Sold\", overlaying = \"y\", side = \"right\"),\n",
    "    template = \"gridon\",\n",
    "    legend = dict(x=1,y=1.1)\n",
    ")\n",
    "_, col6 = st.columns([0.1,1])\n",
    "with col6:\n",
    "    st.plotly_chart(fig3,use_container_width=True)\n",
    "\n",
    "_, view3, dwn3 = st.columns([0.5,0.45,0.45])\n",
    "with view3:\n",
    "    expander = st.expander(\"View Data for Sales by Units Sold\")\n",
    "    expander.write(result1)\n",
    "with dwn3:\n",
    "    st.download_button(\"Get Data\", data = result1.to_csv().encode(\"utf-8\"), \n",
    "                       file_name = \"Sales_by_UnitsSold.csv\", mime=\"text/csv\")\n",
    "st.divider()\n",
    "\n",
    "_, col7 = st.columns([0.1,1])\n",
    "treemap = df[[\"Region\",\"City\",\"TotalSales\"]].groupby(by = [\"Region\",\"City\"])[\"TotalSales\"].sum().reset_index()\n",
    "\n",
    "def format_sales(value):\n",
    "    if value >= 0:\n",
    "        return '{:.2f} Lakh'.format(value / 1_000_00)\n",
    "\n",
    "treemap[\"TotalSales (Formatted)\"] = treemap[\"TotalSales\"].apply(format_sales)\n",
    "\n",
    "fig4 = px.treemap(treemap, path = [\"Region\",\"City\"], values = \"TotalSales\",\n",
    "                  hover_name = \"TotalSales (Formatted)\",\n",
    "                  hover_data = [\"TotalSales (Formatted)\"],\n",
    "                  color = \"City\", height = 700, width = 600)\n",
    "fig4.update_traces(textinfo=\"label+value\")\n",
    "\n",
    "with col7:\n",
    "    st.subheader(\":point_right: Total Sales by Region and City in Treemap\")\n",
    "    st.plotly_chart(fig4,use_container_width=True)\n",
    "\n",
    "_, view4, dwn4 = st.columns([0.5,0.45,0.45])\n",
    "with view4:\n",
    "    result2 = df[[\"Region\",\"City\",\"TotalSales\"]].groupby(by=[\"Region\",\"City\"])[\"TotalSales\"].sum()\n",
    "    expander = st.expander(\"View data for Total Sales by Region and City\")\n",
    "    expander.write(result2)\n",
    "with dwn4:\n",
    "    st.download_button(\"Get Data\", data = result2.to_csv().encode(\"utf-8\"),\n",
    "                                        file_name=\"Sales_by_Region.csv\", mime=\"text.csv\")\n",
    "\n",
    "_,view5, dwn5 = st.columns([0.5,0.45,0.45])\n",
    "with view5:\n",
    "    expander = st.expander(\"View Sales Raw Data\")\n",
    "    expander.write(df)\n",
    "with dwn5:\n",
    "    st.download_button(\"Get Raw Data\", data = df.to_csv().encode(\"utf-8\"),\n",
    "                       file_name = \"SalesRawData.csv\", mime=\"text/csv\")\n",
    "st.divider()"
   ]
  },
  {
   "cell_type": "markdown",
   "metadata": {},
   "source": [
    "The above code block started with setting up the chart. A new Plotly figure (`fig3`) is created. Plotly's g`o.Figure()` is used for more complex and customizable charts.\n",
    "\n",
    "To add a bar chart trace for total sales, a bar chart is added to the figure representing 'Total Sales' by state.\n",
    "\n",
    "A line chart is added as a second trace, representing `UnitsSold` by state. It is set to use a secondary y-axis (`yaxis=\"y2\"`).\n",
    "\n",
    "The layout of the chart is updated to include titles, axis labels, a secondary y-axis, and styling.\n",
    "\n",
    "The chart is then displayed in a Streamlit column, taking up the majority of the screen width.\n",
    "\n",
    "From the `with view3:` section, an expander was created. This expander can be clicked by users to view the `result1` DataFrame.\n",
    "\n",
    "From the `with dwn3:` section, a download button allows users to download `result1` data as a CSV file.\n",
    "\n",
    "The data was then prepared and formatted for the treemap visualization, after which a treemap is created using `px.treemap` and displayed in a Streamlit column. It visualizes sales data by region and city.\n",
    "\n",
    "More expanders and download buttons are added to provide different views of the data (`result2` and `df`) and options to download them.\n",
    "\n",
    "This code demonstrates the use of various Streamlit and Plotly features to create a rich, interactive, and informative data visualization application."
   ]
  },
  {
   "cell_type": "markdown",
   "metadata": {},
   "source": [
    "### Running the Streamlit App\n",
    "\n",
    "Save your script and run it using the Streamlit command:"
   ]
  },
  {
   "cell_type": "code",
   "execution_count": null,
   "metadata": {},
   "outputs": [],
   "source": [
    "streamlit run adidas.py"
   ]
  }
 ],
 "metadata": {
  "kernelspec": {
   "display_name": "base",
   "language": "python",
   "name": "python3"
  },
  "language_info": {
   "codemirror_mode": {
    "name": "ipython",
    "version": 3
   },
   "file_extension": ".py",
   "mimetype": "text/x-python",
   "name": "python",
   "nbconvert_exporter": "python",
   "pygments_lexer": "ipython3",
   "version": "3.11.3"
  }
 },
 "nbformat": 4,
 "nbformat_minor": 2
}
