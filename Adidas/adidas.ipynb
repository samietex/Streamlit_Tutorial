{
 "cells": [
  {
   "cell_type": "markdown",
   "metadata": {},
   "source": [
    "## Streamlit Tutorial for Beginners\n",
    "\n",
    "Streamlit is an open-source Python library that makes it easy to create and share beautiful, custom web apps for machine learning and data science. In just a few minutes you can build and deploy powerful data apps - so let's get started!\n",
    "\n",
    "### Setting Up Your Development Environment\n",
    "\n",
    "Before you can start using Streamlit, you need to set up your Python environment and install Streamlit.\n",
    "\n",
    "I will assume that you have already have experience writing Python codes so we can skip the Python installation part, and proceed to Streamlit installation.\n",
    "\n",
    "Before installing streamlit using pip, I will advise you to create a virtual environment. You can do this by navigating to the directory where you want to store your code, and run the following command to create a virtual environment named `env`"
   ]
  },
  {
   "cell_type": "code",
   "execution_count": null,
   "metadata": {},
   "outputs": [],
   "source": [
    "! python -m venv env"
   ]
  },
  {
   "cell_type": "markdown",
   "metadata": {},
   "source": [
    "You can then go ahead to activate the virtual environment. \n",
    "\n",
    "For Windows users: `env\\Scripts\\activate`\n",
    "For Unix or MacOS users: `source env/bin/activate`\n",
    "\n",
    "Now, to install Streamlit. Using the already activated virtual environment:"
   ]
  },
  {
   "cell_type": "code",
   "execution_count": null,
   "metadata": {},
   "outputs": [],
   "source": [
    "! pip install streamlit"
   ]
  },
  {
   "cell_type": "markdown",
   "metadata": {},
   "source": [
    "### Building Your First Streamlit App\n",
    "\n",
    "Let's start with a simple Streamlit App. After creating a new python script file, you can save it as `app.py` in your project directory."
   ]
  },
  {
   "cell_type": "code",
   "execution_count": 1,
   "metadata": {},
   "outputs": [
    {
     "name": "stderr",
     "output_type": "stream",
     "text": [
      "2024-01-13 13:27:52.291 \n",
      "  \u001b[33m\u001b[1mWarning:\u001b[0m to view this Streamlit app on a browser, run it with the following\n",
      "  command:\n",
      "\n",
      "    streamlit run c:\\Users\\Windows\\anaconda3\\Lib\\site-packages\\ipykernel_launcher.py [ARGUMENTS]\n"
     ]
    }
   ],
   "source": [
    "import streamlit as st\n",
    "\n",
    "st.title('My First Streamlit App')\n",
    "\n",
    "st.write('Hello, world!')"
   ]
  },
  {
   "cell_type": "markdown",
   "metadata": {},
   "source": [
    "### Running Your Streamlit App\n",
    "\n",
    "To run your app, open a terminal and navigate to the project directory where the `app.py` script is and run"
   ]
  },
  {
   "cell_type": "code",
   "execution_count": null,
   "metadata": {},
   "outputs": [],
   "source": [
    "streamlit run app.py"
   ]
  },
  {
   "cell_type": "markdown",
   "metadata": {},
   "source": [
    "### Exploring Streamlit Features\n",
    "\n",
    "Streamlit offers a variety of features to add interactivity to your app.\n",
    "\n",
    "### Display Text\n",
    "\n",
    "You've already seen `st.write()`, but Streamlit provides other functions for text:"
   ]
  },
  {
   "cell_type": "code",
   "execution_count": 2,
   "metadata": {},
   "outputs": [
    {
     "data": {
      "text/plain": [
       "DeltaGenerator()"
      ]
     },
     "execution_count": 2,
     "metadata": {},
     "output_type": "execute_result"
    }
   ],
   "source": [
    "st.text('This is some text.')\n",
    "st.markdown('**Markdown** is also supported!')\n",
    "st.header('This is a header')\n",
    "st.subheader('This is a subheader')\n",
    "st.caption('This is a small caption text')"
   ]
  },
  {
   "cell_type": "markdown",
   "metadata": {},
   "source": [
    "### Widgets\n",
    "\n",
    "Widgets allow users to interact with the app and provide input."
   ]
  },
  {
   "cell_type": "code",
   "execution_count": 3,
   "metadata": {},
   "outputs": [
    {
     "name": "stderr",
     "output_type": "stream",
     "text": [
      "2024-01-13 13:29:32.875 Session state does not function when running a script without `streamlit run`\n"
     ]
    }
   ],
   "source": [
    "number = st.slider('Pick a number', 0, 100) # Slider widget\n",
    "st.write('Selected number:', number)\n",
    "\n",
    "text_input = st.text_input('Enter some text') # Text input widget\n",
    "st.write('Entered text:', text_input)\n",
    "\n",
    "checkbox_val = st.checkbox('Check me') # Checkbox widget\n",
    "st.write('Checkbox status:', checkbox_val)\n",
    "\n",
    "date = st.date_input('Pick a date') # Date input widget\n",
    "st.write('Selected date:', date)"
   ]
  },
  {
   "cell_type": "markdown",
   "metadata": {},
   "source": [
    "### layouts and Containers\n",
    "\n",
    "Streamlit allows you to organize your app's layout using containers and columns."
   ]
  },
  {
   "cell_type": "code",
   "execution_count": 4,
   "metadata": {},
   "outputs": [],
   "source": [
    "# Containers\n",
    "header_container = st.container()\n",
    "stats_container = st.container()\n",
    "\n",
    "with header_container:\n",
    "    st.title('This is the main header')\n",
    "\n",
    "with stats_container:\n",
    "    st.header('Statistics Section')\n",
    "    st.write('Here we can display statistics or other information.')\n",
    "\n",
    "# Columns for side-by-side widgets\n",
    "col1, col2 = st.columns(2)\n",
    "with col1:\n",
    "    st.header('Column 1')\n",
    "    st.write('Hello from Column 1')\n",
    "\n",
    "with col2:\n",
    "    st.header('Column 2')\n",
    "    st.write('Hello from Column 2')"
   ]
  },
  {
   "cell_type": "markdown",
   "metadata": {},
   "source": [
    "### Charts and Maps\n",
    "\n",
    "Streamlit supports plotting charts and maps."
   ]
  },
  {
   "cell_type": "code",
   "execution_count": null,
   "metadata": {},
   "outputs": [],
   "source": [
    "import pandas as pd\n",
    "import numpy as np\n",
    "\n",
    "# Generating a random dataframe\n",
    "df = pd.DataFrame(np.random.randn(50, 3), columns=['a', 'b', 'c'])\n",
    "\n",
    "st.line_chart(df)  # Line chart\n",
    "st.area_chart(df)  # Area chart\n",
    "st.bar_chart(df['a'])  # Bar chart\n",
    "\n",
    "# Maps\n",
    "st.map(df[['a', 'b']])  # Assumes 'a' and 'b' are latitude and longitude"
   ]
  },
  {
   "cell_type": "markdown",
   "metadata": {},
   "source": [
    "### DataFrames and Tables\n",
    "\n",
    "You can display data using Streamlit's built-in functions."
   ]
  },
  {
   "cell_type": "code",
   "execution_count": null,
   "metadata": {},
   "outputs": [],
   "source": [
    "# Display a dataframe\n",
    "st.dataframe(df)\n",
    "\n",
    "# Display a static table\n",
    "st.table(df.head())"
   ]
  },
  {
   "cell_type": "markdown",
   "metadata": {},
   "source": [
    "### Advanced Features\n",
    "\n",
    "As you get more comfortable with Streamlit, you might want to explore more advanced features, such as:\n",
    "\n",
    "* **State Management**: Handling user input across multiple interactions.\n",
    "* **Caching**: Improving app performance by caching computation.\n",
    "* **File Uploads:** Allowing users to upload files for processing.\n",
    "* **Custome Components:** Creating custom web components for your app.\n",
    "\n",
    "\n",
    "## Example Using the `adidas.py` Script\n",
    "For a better understanding, let's use the `adidas.py` script as an example. This will give you more understanding on how to build a dashboard app for exploratory data analysis and visualization.\n",
    "\n",
    "We will be visualizing sales data from an Excel file. let's get started!\n",
    "\n",
    "### Importing Libraries\n",
    "\n"
   ]
  },
  {
   "cell_type": "markdown",
   "metadata": {},
   "source": []
  }
 ],
 "metadata": {
  "kernelspec": {
   "display_name": "base",
   "language": "python",
   "name": "python3"
  },
  "language_info": {
   "codemirror_mode": {
    "name": "ipython",
    "version": 3
   },
   "file_extension": ".py",
   "mimetype": "text/x-python",
   "name": "python",
   "nbconvert_exporter": "python",
   "pygments_lexer": "ipython3",
   "version": "3.11.3"
  }
 },
 "nbformat": 4,
 "nbformat_minor": 2
}
